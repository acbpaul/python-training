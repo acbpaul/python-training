{
 "cells": [
  {
   "cell_type": "markdown",
   "metadata": {},
   "source": [
    "# Numbers\n",
    "\n",
    "## Contents\n",
    "\n",
    "* Types of Numbers in Python\n",
    "* Arithmetic Operators\n",
    "* Numeric Functions\n",
    "* Object Assignment in Python"
   ]
  },
  {
   "cell_type": "markdown",
   "metadata": {},
   "source": [
    "### Types of Numbers in Python\n",
    "\n",
    "#### Int\n",
    "\n",
    "In Python, integers are zero, positive or negative whole numbers without a fractional part and having unlimited precision, e.g. 0, 100, -10. The followings are valid integer literals in Python:"
   ]
  },
  {
   "cell_type": "code",
   "execution_count": 3,
   "metadata": {},
   "outputs": [
    {
     "name": "stdout",
     "output_type": "stream",
     "text": [
      "0\n",
      "100\n",
      "-10\n",
      "1234567890\n"
     ]
    }
   ],
   "source": [
    "#integer variables\n",
    "x = 0\n",
    "print(x)\n",
    "\n",
    "x = 100\n",
    "print(x)\n",
    "\n",
    "x = -10\n",
    "print(x)\n",
    "\n",
    "x = 1234567890\n",
    "print(x)"
   ]
  },
  {
   "cell_type": "markdown",
   "metadata": {},
   "source": [
    "Integers can be binary, octal, and hexadecimal values:"
   ]
  },
  {
   "cell_type": "code",
   "execution_count": 4,
   "metadata": {},
   "outputs": [
    {
     "name": "stdout",
     "output_type": "stream",
     "text": [
      "216\n",
      "10\n",
      "18\n"
     ]
    }
   ],
   "source": [
    "b = 0b11011000 # binary\n",
    "print(b)\n",
    "\n",
    "o = 0o12 # octal\n",
    "print(o)\n",
    "\n",
    "h = 0x12 # hexadecimal\n",
    "print(h)"
   ]
  },
  {
   "cell_type": "markdown",
   "metadata": {},
   "source": [
    "The int() function converts a string or float to int:"
   ]
  },
  {
   "cell_type": "code",
   "execution_count": 5,
   "metadata": {},
   "outputs": [
    {
     "name": "stdout",
     "output_type": "stream",
     "text": [
      "100\n",
      "-10\n",
      "5\n",
      "4\n"
     ]
    }
   ],
   "source": [
    "x = int('100')\n",
    "print(x) \n",
    "\n",
    "y = int('-10')\n",
    "print(y) \n",
    "\n",
    "z = int(5.5)\n",
    "print(z) \n",
    "\n",
    "n = int('100', 2)\n",
    "print(n)"
   ]
  },
  {
   "cell_type": "markdown",
   "metadata": {},
   "source": [
    "#### Float\n",
    "\n",
    "In Python, floating point numbers (float) are positive and negative real numbers with a fractional part denoted by the decimal symbol `.` or the scientific notation `E` or `e`, e.g. 1234.56, 3.142, -1.55, 0.23."
   ]
  },
  {
   "cell_type": "code",
   "execution_count": 6,
   "metadata": {},
   "outputs": [
    {
     "name": "stdout",
     "output_type": "stream",
     "text": [
      "1.2\n",
      "<class 'float'>\n",
      "12342.222013\n",
      "inf\n"
     ]
    }
   ],
   "source": [
    "f = 1.2\n",
    "print(f) #output: 1.2\n",
    "print(type(f)) #output: <class 'float'>\n",
    "\n",
    "f=123_42.222_013 #output: 12342.222013\n",
    "print(f)\n",
    "\n",
    "f=2e400\n",
    "print(f) #output: inf"
   ]
  },
  {
   "cell_type": "markdown",
   "metadata": {},
   "source": [
    "As you can see, a floating point number can be separated by the underscore `_`. The maximum size of a float is depend on your system. The float beyond its maximum size referred as `inf`, `Inf`, `INFINITY`, or `infinity`. For example, a float number `2e400` will be considered as infinity for most systems.\n",
    "\n",
    "Scientific notation is used as a short representation to express floats having many digits. For example: 345.56789 is represented as `3.4556789e2` or `3.4556789E2`"
   ]
  },
  {
   "cell_type": "code",
   "execution_count": 7,
   "metadata": {},
   "outputs": [
    {
     "name": "stdout",
     "output_type": "stream",
     "text": [
      "1000.0\n",
      "100000.0\n",
      "345.56789\n",
      "<class 'float'>\n"
     ]
    }
   ],
   "source": [
    "f = 1e3\n",
    "print(f) #output: 1000.0\n",
    "\n",
    "f = 1e5\n",
    "print(f) #output:100000.0\n",
    "\n",
    "f = 3.4556789e2\n",
    "print(f) #output:\n",
    "print(type(f)) #output:345.56789"
   ]
  },
  {
   "cell_type": "markdown",
   "metadata": {},
   "source": [
    "Use the float() function to convert string, int to float."
   ]
  },
  {
   "cell_type": "code",
   "execution_count": 8,
   "metadata": {},
   "outputs": [
    {
     "name": "stdout",
     "output_type": "stream",
     "text": [
      "5.5\n",
      "5.0\n",
      "-5.0\n",
      "1000.0\n",
      "-inf\n",
      "inf\n",
      "<class 'float'>\n"
     ]
    }
   ],
   "source": [
    "f=float('5.5')\n",
    "print(f) #output: 5.5\n",
    "\n",
    "f=float('5')\n",
    "print(f) #output: 5.0\n",
    "\n",
    "f=float('     -5')\n",
    "print(f) #output: -5.0\n",
    "\n",
    "f=float('1e3')\n",
    "print(f) #output: 1000.0\n",
    "\n",
    "f=float('-Infinity')\n",
    "print(f) #output: -inf\n",
    "\n",
    "f=float('inf')\n",
    "print(f)  #output: inf\n",
    "print(type(f)) #output:<class 'float'>"
   ]
  },
  {
   "cell_type": "markdown",
   "metadata": {},
   "source": [
    "#### Complex Numbers\n",
    "\n",
    "A complex number is a number with real and imaginary components. For example, `5 + 6j` is a complex number where 5 is the real component and 6 multiplied by j is an imaginary component.\n",
    "\n",
    "You must use j or J as imaginary component. Using other character will throw syntax error."
   ]
  },
  {
   "cell_type": "code",
   "execution_count": 9,
   "metadata": {},
   "outputs": [
    {
     "name": "stdout",
     "output_type": "stream",
     "text": [
      "(5+2j)\n",
      "<class 'complex'>\n"
     ]
    }
   ],
   "source": [
    "a = 5+2j\n",
    "print(a)\n",
    "print(type(a))"
   ]
  },
  {
   "cell_type": "code",
   "execution_count": 10,
   "metadata": {},
   "outputs": [
    {
     "ename": "SyntaxError",
     "evalue": "invalid decimal literal (3175259498.py, line 1)",
     "output_type": "error",
     "traceback": [
      "\u001b[1;36m  Cell \u001b[1;32mIn[10], line 1\u001b[1;36m\u001b[0m\n\u001b[1;33m    a=5+2k\u001b[0m\n\u001b[1;37m        ^\u001b[0m\n\u001b[1;31mSyntaxError\u001b[0m\u001b[1;31m:\u001b[0m invalid decimal literal\n"
     ]
    }
   ],
   "source": [
    "a=5+2k\n",
    "a=5+j\n",
    "a=5i+2j"
   ]
  },
  {
   "cell_type": "markdown",
   "metadata": {},
   "source": [
    "### Arithmetic Operators\n",
    "\n",
    "Operator | Description | Example\n",
    ":------- | :---------- | :------\n",
    "\\+ (Addition) | Adds operands on either side of the operator.\t| a,b = 10, 20 <br>print(a+b) #30\n",
    "\\- (Subtraction)\t| Subtracts the right-hand operand from the left-hand operand.\t| a,b = 10, 20<br>print(a-b) #-10\n",
    "\\* (Multiplication)\t| Multiplies values on either side of the operator. | \ta,b = 10, 20 <br>print(a*b) #200\n",
    "/ (Division)\t| Divides the left-hand operand by the right-hand operand.\t| a,b = 10, 20 <br>print(b/a) #2.0\n",
    "% (Modulus)\t| Returns the remainder of the division of the left-hand operand by right-hand operand.\t| a,b = 10, 22 <br>print(a+b) #2\n",
    "** (Exponent) |\tCalculates the value of the left-operand raised to the right-operand.\t| a=3 print(a\\*\\*2) #9 <br>print(a\\*\\*3) #27\n",
    "// (Floor Division)\t| The division of operands where the result is the quotient in which the digits after the decimal point are removed. <br>But if one of the operands is negative, the result is floored, i.e., rounded away from zero (towards negative infinity):\t| a,b = 9, 2 <br>print(a//b) #4"
   ]
  },
  {
   "cell_type": "code",
   "execution_count": null,
   "metadata": {},
   "outputs": [
    {
     "name": "stdout",
     "output_type": "stream",
     "text": [
      "4\n",
      "4.0\n"
     ]
    }
   ],
   "source": [
    "# Basic Arithmetic examples\n",
    "\n",
    "print(2+2)\n",
    "print(2.0+2.0)"
   ]
  },
  {
   "cell_type": "markdown",
   "metadata": {},
   "source": [
    "### Numeric Functions\n",
    "\n",
    "A numeric object of one type can be converted in another type using the following functions:"
   ]
  },
  {
   "cell_type": "markdown",
   "metadata": {},
   "source": [
    "| Built-in Function | Description | \n",
    "| :---------------- | :--------- | \n",
    "| int\t| Returns the integer object from a float or a string containing digits. |\n",
    "| float | Returns a floating-point number object from a number or string containing digits with decimal point or scientific notation. |\n",
    "| complex\t| Returns a complex number with real and imaginary components. |\n",
    "| hex\t| Converts a decimal integer into a hexadecimal number with 0x prefix. |\n",
    "| oct\t| Converts a decimal integer in an octal representation with 0o prefix. |\n",
    "| pow\t| Returns the power of the specified numbers. |\n",
    "| abs\t| Returns the absolute value of a number without considering its sign. |\n",
    "| round | Returns the rounded number. |"
   ]
  },
  {
   "cell_type": "markdown",
   "metadata": {},
   "source": [
    "More numeric functions are readily available in the `math` module. It has to be imported with the `import math` command:"
   ]
  },
  {
   "cell_type": "code",
   "execution_count": null,
   "metadata": {},
   "outputs": [
    {
     "name": "stdout",
     "output_type": "stream",
     "text": [
      "2.23606797749979\n"
     ]
    }
   ],
   "source": [
    "import math\n",
    "\n",
    "a = math.sqrt(5)\n",
    "print(a)"
   ]
  },
  {
   "cell_type": "markdown",
   "metadata": {},
   "source": [
    "Function | Description\n",
    ":------: | :---------\n",
    "ceil(x)\t| Returns the smallest integer greater than or equal to x.\n",
    "floor(x) | Returns the largest integer less than or equal to x\n",
    "isnan(x) | Returns True if x is a NaN (Not a Number)\n",
    "exp(x) | Returns e**x\n",
    "log(x[, b])\t| Returns the logarithm of x to the base b (defaults to e)\n",
    "log10(x) | Returns the base-10 logarithm of x\n",
    "sqrt(x)\t| Returns the square root of x\n",
    "cos(x) | Returns the cosine of x\n",
    "hypot(x, y)\t| Returns the Euclidean norm, sqrt(x\\*x + y\\*y)\n",
    "sin(x) | Returns the sine of x\n",
    "tan(x) | Returns the tangent of x\n",
    "degrees(x) | Converts angle x from radians to degrees\n",
    "radians(x) | Converts angle x from degrees to radians\n",
    "pi | Mathematical constant, the ratio of circumference of a circle to it's diameter (3.14159...)\n",
    "e | Mathematical constant e (2.71828...)"
   ]
  },
  {
   "cell_type": "code",
   "execution_count": null,
   "metadata": {},
   "outputs": [
    {
     "name": "stdout",
     "output_type": "stream",
     "text": [
      "6\n",
      "5\n",
      "False\n"
     ]
    },
    {
     "data": {
      "text/plain": [
       "10.0"
      ]
     },
     "execution_count": 10,
     "metadata": {},
     "output_type": "execute_result"
    }
   ],
   "source": [
    "import math\n",
    "\n",
    "print(math.ceil(5.5))\n",
    "print(math.floor(5.5))\n",
    "print(math.isnan(0))\n",
    "\n",
    "r = math.radians(3600)\n",
    "r/(2*math.pi)\n"
   ]
  }
 ],
 "metadata": {
  "kernelspec": {
   "display_name": "base",
   "language": "python",
   "name": "python3"
  },
  "language_info": {
   "codemirror_mode": {
    "name": "ipython",
    "version": 3
   },
   "file_extension": ".py",
   "mimetype": "text/x-python",
   "name": "python",
   "nbconvert_exporter": "python",
   "pygments_lexer": "ipython3",
   "version": "3.10.9"
  }
 },
 "nbformat": 4,
 "nbformat_minor": 2
}
